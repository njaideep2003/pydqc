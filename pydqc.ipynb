{
 "cells": [
  {
   "cell_type": "code",
   "execution_count": null,
   "id": "c20b8d3c",
   "metadata": {},
   "outputs": [],
   "source": [
    "pip install pydqc pandas\n"
   ]
  },
  {
   "cell_type": "code",
   "execution_count": null,
   "id": "fe4e419c",
   "metadata": {},
   "outputs": [],
   "source": [
    "import pandas as pd\n",
    "from pydqc import data_summary, data_compare\n",
    "import matplotlib.pyplot as plt\n",
    "import warnings\n",
    "import matplotlib.pyplot as plt"
   ]
  },
  {
   "cell_type": "code",
   "execution_count": null,
   "id": "d9d6cbee",
   "metadata": {},
   "outputs": [],
   "source": [
    "column_names = [\"user_id\", \"item_id\", \"rating\", \"timestamp\"]\n",
    "df = pd.read_csv(\"ml-100k/ml-100k/u.data\", sep=\"\\t\", names=column_names)\n",
    "\n",
    "df.head()\n"
   ]
  },
  {
   "cell_type": "code",
   "execution_count": null,
   "id": "78628fad",
   "metadata": {},
   "outputs": [],
   "source": [
    "# Load data\n",
    "column_names = [\"user_id\", \"item_id\", \"rating\", \"timestamp\"]\n",
    "df1 = pd.read_csv(\"ml-100k/ml-100k/u.data\", sep=\"\\t\", names=column_names)\n",
    "\n",
    "# Corrupted version\n",
    "df2 = df1.copy()\n",
    "df2.loc[0:5, 'rating'] = None\n",
    "df2.loc[10:15, 'item_id'] = -99\n",
    "\n",
    "# 🔧 Schema (with exactly the expected structure)\n",
    "schema1 = pd.DataFrame({\n",
    "    'column': ['user_id', 'item_id', 'rating', 'timestamp'],\n",
    "    'type': ['int', 'int', 'int', 'int'],\n",
    "    'include': [1, 1, 1, 1],\n",
    "    'categorical': [0, 0, 0, 0],\n",
    "    'manual_annotate': [0, 0, 0, 0]\n",
    "})\n",
    "\n",
    "schema2 = schema1.copy()\n",
    "\n",
    "# ✅ Summary reports\n",
    "data_summary.data_summary(schema1, df1, \"summary1.xlsx\")\n",
    "data_summary.data_summary(schema2, df2, \"summary2.xlsx\")\n",
    "\n",
    "# ✅ Comparison\n",
    "data_compare.data_compare(df1, df2, schema1, schema2, \"comparison_results.csv\")\n"
   ]
  },
  {
   "cell_type": "code",
   "execution_count": null,
   "id": "be65a2ae",
   "metadata": {},
   "outputs": [],
   "source": [
    "schema1 = pd.read_excel(\"data_schema_schema1.xlsx.xlsx\")\n",
    "schema2 = pd.read_excel(\"data_schema_schema2.xlsx.xlsx\")\n"
   ]
  },
  {
   "cell_type": "code",
   "execution_count": null,
   "id": "dabf0124",
   "metadata": {},
   "outputs": [],
   "source": [
    "\n",
    "# ✅ Monkey-patch plt.hist to replace `normed` with `density`\n",
    "original_hist = plt.hist\n",
    "def patched_hist(*args, **kwargs):\n",
    "    if 'normed' in kwargs:\n",
    "        warnings.warn(\"`normed=True` is deprecated. Using `density=True` instead.\")\n",
    "        kwargs['density'] = kwargs.pop('normed')\n",
    "    return original_hist(*args, **kwargs)\n",
    "\n",
    "plt.hist = patched_hist  # Apply the patch\n",
    "\n",
    "\n"
   ]
  },
  {
   "cell_type": "code",
   "execution_count": null,
   "id": "9c1abb20",
   "metadata": {},
   "outputs": [],
   "source": [
    "\n",
    "data_summary.data_summary(schema1, df1, \"summary1.xlsx\", sample_size=5000)\n",
    "data_summary.data_summary(schema2, df2, \"summary2.xlsx\", sample_size=5000)\n",
    "data_compare.data_compare(df1, df2, schema1, schema2, \"comparison_results.csv\")\n"
   ]
  },
  {
   "cell_type": "code",
   "execution_count": null,
   "id": "f783281c",
   "metadata": {},
   "outputs": [],
   "source": [
    "\n",
    "# Drop NaN ratings to avoid issues\n",
    "df1['rating'].dropna().astype(int).hist(bins=5, edgecolor='black')\n",
    "\n",
    "plt.title(\"Distribution of Movie Ratings\")\n",
    "plt.xlabel(\"Rating\")\n",
    "plt.ylabel(\"Frequency\")\n",
    "plt.xticks([1, 2, 3, 4, 5])  # MovieLens ratings are 1–5\n",
    "plt.grid(False)\n",
    "plt.tight_layout()\n",
    "plt.show()\n"
   ]
  },
  {
   "cell_type": "code",
   "execution_count": null,
   "id": "7e4e45b6",
   "metadata": {},
   "outputs": [],
   "source": []
  }
 ],
 "metadata": {
  "kernelspec": {
   "display_name": "base",
   "language": "python",
   "name": "python3"
  },
  "language_info": {
   "codemirror_mode": {
    "name": "ipython",
    "version": 3
   },
   "file_extension": ".py",
   "mimetype": "text/x-python",
   "name": "python",
   "nbconvert_exporter": "python",
   "pygments_lexer": "ipython3",
   "version": "3.12.7"
  }
 },
 "nbformat": 4,
 "nbformat_minor": 5
}
